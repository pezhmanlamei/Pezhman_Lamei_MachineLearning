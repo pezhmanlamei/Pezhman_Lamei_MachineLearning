{
 "cells": [
  {
   "cell_type": "code",
   "execution_count": 536,
   "id": "37d67575",
   "metadata": {},
   "outputs": [],
   "source": [
    "from tensorflow.keras.datasets import imdb\n",
    "(train_data, train_labels), (test_data, test_labels) = imdb.load_data(\n",
    "    num_words=10000)"
   ]
  },
  {
   "cell_type": "code",
   "execution_count": 537,
   "id": "ea981d9b",
   "metadata": {},
   "outputs": [
    {
     "data": {
      "text/plain": [
       "9999"
      ]
     },
     "execution_count": 537,
     "metadata": {},
     "output_type": "execute_result"
    }
   ],
   "source": [
    "train_data[0]\n",
    "\n",
    "train_labels[0]\n",
    "\n",
    "max([max(sequence) for sequence in train_data])"
   ]
  },
  {
   "cell_type": "code",
   "execution_count": 538,
   "id": "cc756a36",
   "metadata": {},
   "outputs": [],
   "source": [
    "word_index = imdb.get_word_index()\n",
    "reverse_word_index = dict(\n",
    "    [(value, key) for (key, value) in word_index.items()])\n",
    "decoded_review = \" \".join(\n",
    "    [reverse_word_index.get(i - 3, \"?\") for i in train_data[0]])"
   ]
  },
  {
   "cell_type": "code",
   "execution_count": 539,
   "id": "ac423634",
   "metadata": {},
   "outputs": [],
   "source": [
    "import numpy as np\n",
    "def vectorize_sequences(sequences, dimension=10000):\n",
    "    results = np.zeros((len(sequences), dimension))\n",
    "    for i, sequence in enumerate(sequences):\n",
    "        for j in sequence:\n",
    "            results[i, j] = 1.\n",
    "    return results\n",
    "x_train = vectorize_sequences(train_data)\n",
    "x_test = vectorize_sequences(test_data)"
   ]
  },
  {
   "cell_type": "markdown",
   "id": "a04ebe8d",
   "metadata": {},
   "source": [
    "## Model without regularization and dropout (two layers and 16 units)"
   ]
  },
  {
   "cell_type": "code",
   "execution_count": 540,
   "id": "8ea3791e",
   "metadata": {},
   "outputs": [],
   "source": [
    "x_train[0]\n",
    "\n",
    "y_train = np.asarray(train_labels).astype(\"float32\")\n",
    "y_test = np.asarray(test_labels).astype(\"float32\")\n",
    "\n",
    "from tensorflow import keras\n",
    "from tensorflow.keras import layers\n",
    "from keras import regularizers\n",
    "model = keras.Sequential([\n",
    "layers.Dense(16, activation='relu'),\n",
    "layers.Dense(16, activation='relu'),\n",
    "layers.Dense(1, activation='sigmoid')\n",
    "])"
   ]
  },
  {
   "cell_type": "code",
   "execution_count": 541,
   "id": "983d1b40",
   "metadata": {},
   "outputs": [
    {
     "name": "stdout",
     "output_type": "stream",
     "text": [
      "Epoch 1/20\n",
      "30/30 [==============================] - 1s 26ms/step - loss: 0.5248 - accuracy: 0.7795 - val_loss: 0.4087 - val_accuracy: 0.8561\n",
      "Epoch 2/20\n",
      "30/30 [==============================] - 0s 15ms/step - loss: 0.3216 - accuracy: 0.8988 - val_loss: 0.3233 - val_accuracy: 0.8769\n",
      "Epoch 3/20\n",
      "30/30 [==============================] - 0s 15ms/step - loss: 0.2346 - accuracy: 0.9246 - val_loss: 0.2863 - val_accuracy: 0.8877\n",
      "Epoch 4/20\n",
      "30/30 [==============================] - 0s 15ms/step - loss: 0.1869 - accuracy: 0.9403 - val_loss: 0.2798 - val_accuracy: 0.8871\n",
      "Epoch 5/20\n",
      "30/30 [==============================] - 0s 16ms/step - loss: 0.1491 - accuracy: 0.9514 - val_loss: 0.2823 - val_accuracy: 0.8868\n",
      "Epoch 6/20\n",
      "30/30 [==============================] - 1s 17ms/step - loss: 0.1238 - accuracy: 0.9622 - val_loss: 0.2918 - val_accuracy: 0.8867\n",
      "Epoch 7/20\n",
      "30/30 [==============================] - 0s 15ms/step - loss: 0.1022 - accuracy: 0.9697 - val_loss: 0.3081 - val_accuracy: 0.8842\n",
      "Epoch 8/20\n",
      "30/30 [==============================] - 0s 16ms/step - loss: 0.0853 - accuracy: 0.9751 - val_loss: 0.3366 - val_accuracy: 0.8786\n",
      "Epoch 9/20\n",
      "30/30 [==============================] - 1s 17ms/step - loss: 0.0726 - accuracy: 0.9787 - val_loss: 0.3505 - val_accuracy: 0.8770\n",
      "Epoch 10/20\n",
      "30/30 [==============================] - 0s 15ms/step - loss: 0.0577 - accuracy: 0.9858 - val_loss: 0.4047 - val_accuracy: 0.8704\n",
      "Epoch 11/20\n",
      "30/30 [==============================] - 0s 16ms/step - loss: 0.0474 - accuracy: 0.9896 - val_loss: 0.4340 - val_accuracy: 0.8689\n",
      "Epoch 12/20\n",
      "30/30 [==============================] - 0s 17ms/step - loss: 0.0399 - accuracy: 0.9907 - val_loss: 0.4393 - val_accuracy: 0.8726\n",
      "Epoch 13/20\n",
      "30/30 [==============================] - 0s 15ms/step - loss: 0.0322 - accuracy: 0.9935 - val_loss: 0.4640 - val_accuracy: 0.8741\n",
      "Epoch 14/20\n",
      "30/30 [==============================] - 0s 14ms/step - loss: 0.0243 - accuracy: 0.9958 - val_loss: 0.4969 - val_accuracy: 0.8708\n",
      "Epoch 15/20\n",
      "30/30 [==============================] - 0s 15ms/step - loss: 0.0205 - accuracy: 0.9965 - val_loss: 0.5460 - val_accuracy: 0.8676\n",
      "Epoch 16/20\n",
      "30/30 [==============================] - 1s 18ms/step - loss: 0.0171 - accuracy: 0.9971 - val_loss: 0.5674 - val_accuracy: 0.8705\n",
      "Epoch 17/20\n",
      "30/30 [==============================] - 0s 16ms/step - loss: 0.0149 - accuracy: 0.9977 - val_loss: 0.5966 - val_accuracy: 0.8689\n",
      "Epoch 18/20\n",
      "30/30 [==============================] - 0s 16ms/step - loss: 0.0107 - accuracy: 0.9989 - val_loss: 0.6324 - val_accuracy: 0.8683\n",
      "Epoch 19/20\n",
      "30/30 [==============================] - 0s 15ms/step - loss: 0.0067 - accuracy: 0.9997 - val_loss: 0.6727 - val_accuracy: 0.8679\n",
      "Epoch 20/20\n",
      "30/30 [==============================] - 0s 15ms/step - loss: 0.0088 - accuracy: 0.9986 - val_loss: 0.7082 - val_accuracy: 0.8672\n"
     ]
    },
    {
     "data": {
      "text/plain": [
       "dict_keys(['loss', 'accuracy', 'val_loss', 'val_accuracy'])"
      ]
     },
     "execution_count": 541,
     "metadata": {},
     "output_type": "execute_result"
    }
   ],
   "source": [
    "model.compile(optimizer=\"rmsprop\",\n",
    "              loss=\"binary_crossentropy\",\n",
    "              metrics=[\"accuracy\"])\n",
    "\n",
    "x_val = x_train[:10000]\n",
    "partial_x_train = x_train[10000:]\n",
    "y_val = y_train[:10000]\n",
    "partial_y_train = y_train[10000:]\n",
    "\n",
    "history = model.fit(partial_x_train,\n",
    "                    partial_y_train,\n",
    "                    epochs=20,\n",
    "                    batch_size=512,\n",
    "                    validation_data=(x_val, y_val))\n",
    "\n",
    "history_dict = history.history\n",
    "history_dict.keys()"
   ]
  },
  {
   "cell_type": "code",
   "execution_count": 542,
   "id": "916fbb41",
   "metadata": {},
   "outputs": [
    {
     "data": {
      "image/png": "[encoded data removed]",
      "text/plain": [
       "<Figure size 432x288 with 1 Axes>"
      ]
     },
     "metadata": {
      "needs_background": "light"
     },
     "output_type": "display_data"
    }
   ],
   "source": [
    "import matplotlib.pyplot as plt\n",
    "history_dict = history.history\n",
    "loss_values = history_dict[\"loss\"]\n",
    "val_loss_values = history_dict[\"val_loss\"]\n",
    "epochs = range(1, len(loss_values) + 1)\n",
    "plt.plot(epochs, loss_values, \"bo\", label=\"Training loss\")\n",
    "plt.plot(epochs, val_loss_values, \"b\", label=\"Validation loss\")\n",
    "plt.title(\"Training and validation loss\")\n",
    "plt.xlabel(\"Epochs\")\n",
    "plt.ylabel(\"Loss\")\n",
    "plt.legend()\n",
    "plt.show()"
   ]
  },
  {
   "cell_type": "code",
   "execution_count": 543,
   "id": "f458b22e",
   "metadata": {},
   "outputs": [
    {
     "data": {
      "image/png": "[encoded data removed]",
      "text/plain": [
       "<Figure size 432x288 with 1 Axes>"
      ]
     },
     "metadata": {
      "needs_background": "light"
     },
     "output_type": "display_data"
    }
   ],
   "source": [
    "plt.clf()\n",
    "acc = history_dict[\"accuracy\"]\n",
    "val_acc = history_dict[\"val_accuracy\"]\n",
    "plt.plot(epochs, acc, \"bo\", label=\"Training acc\")\n",
    "plt.plot(epochs, val_acc, \"b\", label=\"Validation acc\")\n",
    "plt.title(\"Training and validation accuracy\")\n",
    "plt.xlabel(\"Epochs\")\n",
    "plt.ylabel(\"Accuracy\")\n",
    "plt.legend()\n",
    "plt.show()"
   ]
  },
  {
   "cell_type": "code",
   "execution_count": 544,
   "id": "256312bc",
   "metadata": {},
   "outputs": [
    {
     "name": "stdout",
     "output_type": "stream",
     "text": [
      "Epoch 1/4\n",
      "49/49 [==============================] - 1s 9ms/step - loss: 0.4600 - accuracy: 0.8224\n",
      "Epoch 2/4\n",
      "49/49 [==============================] - 0s 10ms/step - loss: 0.2600 - accuracy: 0.9091\n",
      "Epoch 3/4\n",
      "49/49 [==============================] - 1s 10ms/step - loss: 0.1968 - accuracy: 0.9309\n",
      "Epoch 4/4\n",
      "49/49 [==============================] - 1s 10ms/step - loss: 0.1646 - accuracy: 0.9430\n",
      "782/782 [==============================] - 2s 2ms/step - loss: 0.3028 - accuracy: 0.8802\n"
     ]
    }
   ],
   "source": [
    "model = keras.Sequential([\n",
    "    layers.Dense(16, activation=\"relu\"),\n",
    "    layers.Dense(16, activation=\"relu\"),\n",
    "    layers.Dense(1, activation=\"sigmoid\")\n",
    "])\n",
    "model.compile(optimizer=\"rmsprop\",\n",
    "              loss=\"binary_crossentropy\",\n",
    "              metrics=[\"accuracy\"])\n",
    "model.fit(x_train, y_train, epochs=4, batch_size=512)\n",
    "results = model.evaluate(x_test, y_test)"
   ]
  },
  {
   "cell_type": "code",
   "execution_count": 545,
   "id": "011df7e5",
   "metadata": {},
   "outputs": [
    {
     "data": {
      "text/plain": [
       "[0.30282720923423767, 0.8801599740982056]"
      ]
     },
     "execution_count": 545,
     "metadata": {},
     "output_type": "execute_result"
    }
   ],
   "source": [
    "results\n"
   ]
  },
  {
   "cell_type": "code",
   "execution_count": 546,
   "id": "c1b5d728",
   "metadata": {},
   "outputs": [
    {
     "name": "stdout",
     "output_type": "stream",
     "text": [
      "782/782 [==============================] - 1s 2ms/step\n"
     ]
    },
    {
     "data": {
      "text/plain": [
       "array([[0.13362178],\n",
       "       [0.9999358 ],\n",
       "       [0.8142355 ],\n",
       "       ...,\n",
       "       [0.11238768],\n",
       "       [0.07526967],\n",
       "       [0.59572256]], dtype=float32)"
      ]
     },
     "execution_count": 546,
     "metadata": {},
     "output_type": "execute_result"
    }
   ],
   "source": [
    "model.predict(x_test)"
   ]
  },
  {
   "cell_type": "markdown",
   "id": "027278c3",
   "metadata": {},
   "source": [
    "## Model with 1 layer and 16 units"
   ]
  },
  {
   "cell_type": "code",
   "execution_count": 547,
   "id": "fb3048d1",
   "metadata": {},
   "outputs": [],
   "source": [
    "x_train[0]\n",
    "\n",
    "y_train = np.asarray(train_labels).astype(\"float32\")\n",
    "y_test = np.asarray(test_labels).astype(\"float32\")\n",
    "\n",
    "from tensorflow import keras\n",
    "from tensorflow.keras import layers\n",
    "from keras import regularizers\n",
    "one_layer_model = keras.Sequential([\n",
    "layers.Dense(16, activation='relu'),\n",
    "layers.Dense(1, activation='sigmoid')\n",
    "])"
   ]
  },
  {
   "cell_type": "code",
   "execution_count": 548,
   "id": "c71741ae",
   "metadata": {},
   "outputs": [
    {
     "name": "stdout",
     "output_type": "stream",
     "text": [
      "Epoch 1/20\n",
      "30/30 [==============================] - 1s 24ms/step - loss: 0.5218 - accuracy: 0.7989 - val_loss: 0.4176 - val_accuracy: 0.8649\n",
      "Epoch 2/20\n",
      "30/30 [==============================] - 0s 14ms/step - loss: 0.3456 - accuracy: 0.8959 - val_loss: 0.3419 - val_accuracy: 0.8788\n",
      "Epoch 3/20\n",
      "30/30 [==============================] - 0s 15ms/step - loss: 0.2676 - accuracy: 0.9176 - val_loss: 0.3029 - val_accuracy: 0.8858\n",
      "Epoch 4/20\n",
      "30/30 [==============================] - 0s 15ms/step - loss: 0.2197 - accuracy: 0.9304 - val_loss: 0.2913 - val_accuracy: 0.8846\n",
      "Epoch 5/20\n",
      "30/30 [==============================] - 0s 16ms/step - loss: 0.1863 - accuracy: 0.9427 - val_loss: 0.3140 - val_accuracy: 0.8720\n",
      "Epoch 6/20\n",
      "30/30 [==============================] - 0s 14ms/step - loss: 0.1631 - accuracy: 0.9496 - val_loss: 0.2747 - val_accuracy: 0.8893\n",
      "Epoch 7/20\n",
      "30/30 [==============================] - 0s 16ms/step - loss: 0.1424 - accuracy: 0.9577 - val_loss: 0.2807 - val_accuracy: 0.8877\n",
      "Epoch 8/20\n",
      "30/30 [==============================] - 0s 15ms/step - loss: 0.1258 - accuracy: 0.9638 - val_loss: 0.2820 - val_accuracy: 0.8866\n",
      "Epoch 9/20\n",
      "30/30 [==============================] - 0s 15ms/step - loss: 0.1105 - accuracy: 0.9692 - val_loss: 0.2891 - val_accuracy: 0.8852\n",
      "Epoch 10/20\n",
      "30/30 [==============================] - 0s 15ms/step - loss: 0.0980 - accuracy: 0.9733 - val_loss: 0.3012 - val_accuracy: 0.8854\n",
      "Epoch 11/20\n",
      "30/30 [==============================] - 0s 16ms/step - loss: 0.0870 - accuracy: 0.9779 - val_loss: 0.3091 - val_accuracy: 0.8840\n",
      "Epoch 12/20\n",
      "30/30 [==============================] - 0s 15ms/step - loss: 0.0772 - accuracy: 0.9800 - val_loss: 0.3256 - val_accuracy: 0.8792\n",
      "Epoch 13/20\n",
      "30/30 [==============================] - 0s 15ms/step - loss: 0.0687 - accuracy: 0.9827 - val_loss: 0.3416 - val_accuracy: 0.8776\n",
      "Epoch 14/20\n",
      "30/30 [==============================] - 1s 18ms/step - loss: 0.0613 - accuracy: 0.9864 - val_loss: 0.3541 - val_accuracy: 0.8805\n",
      "Epoch 15/20\n",
      "30/30 [==============================] - 0s 16ms/step - loss: 0.0537 - accuracy: 0.9887 - val_loss: 0.3732 - val_accuracy: 0.8745\n",
      "Epoch 16/20\n",
      "30/30 [==============================] - 0s 16ms/step - loss: 0.0479 - accuracy: 0.9907 - val_loss: 0.3797 - val_accuracy: 0.8765\n",
      "Epoch 17/20\n",
      "30/30 [==============================] - 0s 14ms/step - loss: 0.0426 - accuracy: 0.9920 - val_loss: 0.3971 - val_accuracy: 0.8740\n",
      "Epoch 18/20\n",
      "30/30 [==============================] - 0s 16ms/step - loss: 0.0372 - accuracy: 0.9936 - val_loss: 0.4127 - val_accuracy: 0.8755\n",
      "Epoch 19/20\n",
      "30/30 [==============================] - 0s 16ms/step - loss: 0.0326 - accuracy: 0.9951 - val_loss: 0.4384 - val_accuracy: 0.8699\n",
      "Epoch 20/20\n",
      "30/30 [==============================] - 0s 15ms/step - loss: 0.0287 - accuracy: 0.9957 - val_loss: 0.4519 - val_accuracy: 0.8705\n"
     ]
    },
    {
     "data": {
      "text/plain": [
       "dict_keys(['loss', 'accuracy', 'val_loss', 'val_accuracy'])"
      ]
     },
     "execution_count": 548,
     "metadata": {},
     "output_type": "execute_result"
    }
   ],
   "source": [
    "one_layer_model.compile(optimizer=\"rmsprop\",\n",
    "              loss=\"binary_crossentropy\",\n",
    "              metrics=[\"accuracy\"])\n",
    "\n",
    "x_val = x_train[:10000]\n",
    "partial_x_train = x_train[10000:]\n",
    "y_val = y_train[:10000]\n",
    "partial_y_train = y_train[10000:]\n",
    "\n",
    "history = one_layer_model.fit(partial_x_train,\n",
    "                    partial_y_train,\n",
    "                    epochs=20,\n",
    "                    batch_size=512,\n",
    "                    validation_data=(x_val, y_val))\n",
    "\n",
    "history_dict = history.history\n",
    "history_dict.keys()"
   ]
  },
  {
   "cell_type": "code",
   "execution_count": 549,
   "id": "044f67af",
   "metadata": {},
   "outputs": [
    {
     "data": {
      "image/png": "[encoded data removed]",
      "text/plain": [
       "<Figure size 432x288 with 1 Axes>"
      ]
     },
     "metadata": {
      "needs_background": "light"
     },
     "output_type": "display_data"
    }
   ],
   "source": [
    "import matplotlib.pyplot as plt\n",
    "history_dict = history.history\n",
    "loss_values = history_dict[\"loss\"]\n",
    "val_loss_values = history_dict[\"val_loss\"]\n",
    "epochs = range(1, len(loss_values) + 1)\n",
    "plt.plot(epochs, loss_values, \"bo\", label=\"Training loss\")\n",
    "plt.plot(epochs, val_loss_values, \"b\", label=\"Validation loss\")\n",
    "plt.title(\"Training and validation loss\")\n",
    "plt.xlabel(\"Epochs\")\n",
    "plt.ylabel(\"Loss\")\n",
    "plt.legend()\n",
    "plt.show()"
   ]
  },
  {
   "cell_type": "code",
   "execution_count": 550,
   "id": "bcfa4747",
   "metadata": {},
   "outputs": [
    {
     "data": {
      "image/png": "[encoded data removed]",
      "text/plain": [
       "<Figure size 432x288 with 1 Axes>"
      ]
     },
     "metadata": {
      "needs_background": "light"
     },
     "output_type": "display_data"
    }
   ],
   "source": [
    "plt.clf()\n",
    "acc = history_dict[\"accuracy\"]\n",
    "val_acc = history_dict[\"val_accuracy\"]\n",
    "plt.plot(epochs, acc, \"bo\", label=\"Training acc\")\n",
    "plt.plot(epochs, val_acc, \"b\", label=\"Validation acc\")\n",
    "plt.title(\"Training and validation accuracy\")\n",
    "plt.xlabel(\"Epochs\")\n",
    "plt.ylabel(\"Accuracy\")\n",
    "plt.legend()\n",
    "plt.show()"
   ]
  },
  {
   "cell_type": "code",
   "execution_count": 551,
   "id": "ac675a67",
   "metadata": {},
   "outputs": [
    {
     "name": "stdout",
     "output_type": "stream",
     "text": [
      "Epoch 1/4\n",
      "49/49 [==============================] - 1s 10ms/step - loss: 0.4362 - accuracy: 0.8267\n",
      "Epoch 2/4\n",
      "49/49 [==============================] - 0s 10ms/step - loss: 0.2635 - accuracy: 0.9101\n",
      "Epoch 3/4\n",
      "49/49 [==============================] - 0s 10ms/step - loss: 0.2112 - accuracy: 0.9274\n",
      "Epoch 4/4\n",
      "49/49 [==============================] - 1s 10ms/step - loss: 0.1772 - accuracy: 0.9388\n",
      "782/782 [==============================] - 1s 2ms/step - loss: 0.2894 - accuracy: 0.8821\n"
     ]
    }
   ],
   "source": [
    "one_layer_model = keras.Sequential([\n",
    "    layers.Dense(16, activation=\"relu\"),\n",
    "    layers.Dense(1, activation=\"sigmoid\")\n",
    "])\n",
    "one_layer_model.compile(optimizer=\"rmsprop\",\n",
    "              loss=\"binary_crossentropy\",\n",
    "              metrics=[\"accuracy\"])\n",
    "one_layer_model.fit(x_train, y_train, epochs=4, batch_size=512)\n",
    "results = one_layer_model.evaluate(x_test, y_test)"
   ]
  },
  {
   "cell_type": "code",
   "execution_count": 552,
   "id": "9c043c99",
   "metadata": {},
   "outputs": [
    {
     "data": {
      "text/plain": [
       "[0.2894096374511719, 0.8820800185203552]"
      ]
     },
     "execution_count": 552,
     "metadata": {},
     "output_type": "execute_result"
    }
   ],
   "source": [
    "results\n"
   ]
  },
  {
   "cell_type": "code",
   "execution_count": 553,
   "id": "5092ab59",
   "metadata": {},
   "outputs": [
    {
     "name": "stdout",
     "output_type": "stream",
     "text": [
      "782/782 [==============================] - 4s 2ms/step\n"
     ]
    },
    {
     "data": {
      "text/plain": [
       "array([[0.21258551],\n",
       "       [0.99986017],\n",
       "       [0.7626054 ],\n",
       "       ...,\n",
       "       [0.12269194],\n",
       "       [0.07010791],\n",
       "       [0.5027433 ]], dtype=float32)"
      ]
     },
     "execution_count": 553,
     "metadata": {},
     "output_type": "execute_result"
    }
   ],
   "source": [
    "one_layer_model.predict(x_test)"
   ]
  },
  {
   "cell_type": "markdown",
   "id": "d117a022",
   "metadata": {},
   "source": [
    "## Model with 2 layers and 8 units"
   ]
  },
  {
   "cell_type": "code",
   "execution_count": 554,
   "id": "d1477ba6",
   "metadata": {},
   "outputs": [],
   "source": [
    "x_train[0]\n",
    "\n",
    "y_train = np.asarray(train_labels).astype(\"float32\")\n",
    "y_test = np.asarray(test_labels).astype(\"float32\")\n",
    "\n",
    "from tensorflow import keras\n",
    "from tensorflow.keras import layers\n",
    "from keras import regularizers\n",
    "two_layer_model = keras.Sequential([\n",
    "layers.Dense(8, activation='relu'),\n",
    "    layers.Dense(8, activation='relu'),\n",
    "layers.Dense(1, activation='sigmoid')\n",
    "])"
   ]
  },
  {
   "cell_type": "code",
   "execution_count": 555,
   "id": "307d7c44",
   "metadata": {},
   "outputs": [
    {
     "name": "stdout",
     "output_type": "stream",
     "text": [
      "Epoch 1/20\n",
      "30/30 [==============================] - 1s 24ms/step - loss: 0.5377 - accuracy: 0.7990 - val_loss: 0.4396 - val_accuracy: 0.8463\n",
      "Epoch 2/20\n",
      "30/30 [==============================] - 0s 15ms/step - loss: 0.3568 - accuracy: 0.8952 - val_loss: 0.3422 - val_accuracy: 0.8814\n",
      "Epoch 3/20\n",
      "30/30 [==============================] - 0s 14ms/step - loss: 0.2698 - accuracy: 0.9191 - val_loss: 0.2993 - val_accuracy: 0.8912\n",
      "Epoch 4/20\n",
      "30/30 [==============================] - 0s 14ms/step - loss: 0.2172 - accuracy: 0.9318 - val_loss: 0.2804 - val_accuracy: 0.8928\n",
      "Epoch 5/20\n",
      "30/30 [==============================] - 0s 15ms/step - loss: 0.1820 - accuracy: 0.9439 - val_loss: 0.2769 - val_accuracy: 0.8887\n",
      "Epoch 6/20\n",
      "30/30 [==============================] - 0s 15ms/step - loss: 0.1524 - accuracy: 0.9539 - val_loss: 0.2826 - val_accuracy: 0.8870\n",
      "Epoch 7/20\n",
      "30/30 [==============================] - 0s 15ms/step - loss: 0.1302 - accuracy: 0.9615 - val_loss: 0.2808 - val_accuracy: 0.8874\n",
      "Epoch 8/20\n",
      "30/30 [==============================] - 0s 14ms/step - loss: 0.1140 - accuracy: 0.9662 - val_loss: 0.2901 - val_accuracy: 0.8863\n",
      "Epoch 9/20\n",
      "30/30 [==============================] - 0s 15ms/step - loss: 0.0973 - accuracy: 0.9729 - val_loss: 0.3056 - val_accuracy: 0.8848\n",
      "Epoch 10/20\n",
      "30/30 [==============================] - 0s 16ms/step - loss: 0.0847 - accuracy: 0.9763 - val_loss: 0.3179 - val_accuracy: 0.8835\n",
      "Epoch 11/20\n",
      "30/30 [==============================] - 0s 16ms/step - loss: 0.0724 - accuracy: 0.9816 - val_loss: 0.3382 - val_accuracy: 0.8817\n",
      "Epoch 12/20\n",
      "30/30 [==============================] - 0s 16ms/step - loss: 0.0631 - accuracy: 0.9838 - val_loss: 0.3538 - val_accuracy: 0.8773\n",
      "Epoch 13/20\n",
      "30/30 [==============================] - 0s 14ms/step - loss: 0.0546 - accuracy: 0.9873 - val_loss: 0.3705 - val_accuracy: 0.8790\n",
      "Epoch 14/20\n",
      "30/30 [==============================] - 0s 15ms/step - loss: 0.0462 - accuracy: 0.9899 - val_loss: 0.3969 - val_accuracy: 0.8788\n",
      "Epoch 15/20\n",
      "30/30 [==============================] - 0s 16ms/step - loss: 0.0397 - accuracy: 0.9924 - val_loss: 0.4158 - val_accuracy: 0.8757\n",
      "Epoch 16/20\n",
      "30/30 [==============================] - 0s 15ms/step - loss: 0.0334 - accuracy: 0.9939 - val_loss: 0.4396 - val_accuracy: 0.8741\n",
      "Epoch 17/20\n",
      "30/30 [==============================] - 0s 15ms/step - loss: 0.0283 - accuracy: 0.9951 - val_loss: 0.4686 - val_accuracy: 0.8734\n",
      "Epoch 18/20\n",
      "30/30 [==============================] - 0s 15ms/step - loss: 0.0238 - accuracy: 0.9964 - val_loss: 0.4902 - val_accuracy: 0.8706\n",
      "Epoch 19/20\n",
      "30/30 [==============================] - 0s 14ms/step - loss: 0.0201 - accuracy: 0.9970 - val_loss: 0.5265 - val_accuracy: 0.8711\n",
      "Epoch 20/20\n",
      "30/30 [==============================] - 0s 13ms/step - loss: 0.0156 - accuracy: 0.9983 - val_loss: 0.5542 - val_accuracy: 0.8663\n"
     ]
    },
    {
     "data": {
      "text/plain": [
       "dict_keys(['loss', 'accuracy', 'val_loss', 'val_accuracy'])"
      ]
     },
     "execution_count": 555,
     "metadata": {},
     "output_type": "execute_result"
    }
   ],
   "source": [
    "two_layer_model.compile(optimizer=\"rmsprop\",\n",
    "              loss=\"binary_crossentropy\",\n",
    "              metrics=[\"accuracy\"])\n",
    "\n",
    "x_val = x_train[:10000]\n",
    "partial_x_train = x_train[10000:]\n",
    "y_val = y_train[:10000]\n",
    "partial_y_train = y_train[10000:]\n",
    "\n",
    "history = two_layer_model.fit(partial_x_train,\n",
    "                    partial_y_train,\n",
    "                    epochs=20,\n",
    "                    batch_size=512,\n",
    "                    validation_data=(x_val, y_val))\n",
    "\n",
    "history_dict = history.history\n",
    "history_dict.keys()"
   ]
  },
  {
   "cell_type": "code",
   "execution_count": 556,
   "id": "a1ef46b5",
   "metadata": {},
   "outputs": [
    {
     "data": {
      "image/png": "[encoded data removed]",
      "text/plain": [
       "<Figure size 432x288 with 1 Axes>"
      ]
     },
     "metadata": {
      "needs_background": "light"
     },
     "output_type": "display_data"
    }
   ],
   "source": [
    "import matplotlib.pyplot as plt\n",
    "history_dict = history.history\n",
    "loss_values = history_dict[\"loss\"]\n",
    "val_loss_values = history_dict[\"val_loss\"]\n",
    "epochs = range(1, len(loss_values) + 1)\n",
    "plt.plot(epochs, loss_values, \"bo\", label=\"Training loss\")\n",
    "plt.plot(epochs, val_loss_values, \"b\", label=\"Validation loss\")\n",
    "plt.title(\"Training and validation loss\")\n",
    "plt.xlabel(\"Epochs\")\n",
    "plt.ylabel(\"Loss\")\n",
    "plt.legend()\n",
    "plt.show()"
   ]
  },
  {
   "cell_type": "code",
   "execution_count": 557,
   "id": "04a984c6",
   "metadata": {},
   "outputs": [
    {
     "data": {
      "image/png": "[encoded data removed]",
      "text/plain": [
       "<Figure size 432x288 with 1 Axes>"
      ]
     },
     "metadata": {
      "needs_background": "light"
     },
     "output_type": "display_data"
    }
   ],
   "source": [
    "plt.clf()\n",
    "acc = history_dict[\"accuracy\"]\n",
    "val_acc = history_dict[\"val_accuracy\"]\n",
    "plt.plot(epochs, acc, \"bo\", label=\"Training acc\")\n",
    "plt.plot(epochs, val_acc, \"b\", label=\"Validation acc\")\n",
    "plt.title(\"Training and validation accuracy\")\n",
    "plt.xlabel(\"Epochs\")\n",
    "plt.ylabel(\"Accuracy\")\n",
    "plt.legend()\n",
    "plt.show()"
   ]
  },
  {
   "cell_type": "code",
   "execution_count": 558,
   "id": "0229fa69",
   "metadata": {},
   "outputs": [
    {
     "name": "stdout",
     "output_type": "stream",
     "text": [
      "Epoch 1/4\n",
      "49/49 [==============================] - 1s 10ms/step - loss: 0.4891 - accuracy: 0.8089\n",
      "Epoch 2/4\n",
      "49/49 [==============================] - 1s 10ms/step - loss: 0.2940 - accuracy: 0.9052\n",
      "Epoch 3/4\n",
      "49/49 [==============================] - 1s 10ms/step - loss: 0.2259 - accuracy: 0.9235\n",
      "Epoch 4/4\n",
      "49/49 [==============================] - 0s 9ms/step - loss: 0.1881 - accuracy: 0.9349\n",
      "782/782 [==============================] - 2s 2ms/step - loss: 0.2789 - accuracy: 0.8885\n"
     ]
    }
   ],
   "source": [
    "two_layer_model = keras.Sequential([\n",
    "    layers.Dense(8, activation=\"relu\"),\n",
    "    layers.Dense(8, activation=\"relu\"),\n",
    "    layers.Dense(1, activation=\"sigmoid\")\n",
    "])\n",
    "two_layer_model.compile(optimizer=\"rmsprop\",\n",
    "              loss=\"binary_crossentropy\",\n",
    "              metrics=[\"accuracy\"])\n",
    "two_layer_model.fit(x_train, y_train, epochs=4, batch_size=512)\n",
    "results = two_layer_model.evaluate(x_test, y_test)"
   ]
  },
  {
   "cell_type": "code",
   "execution_count": 559,
   "id": "c8470dc0",
   "metadata": {},
   "outputs": [
    {
     "data": {
      "text/plain": [
       "[0.27887991070747375, 0.8885200023651123]"
      ]
     },
     "execution_count": 559,
     "metadata": {},
     "output_type": "execute_result"
    }
   ],
   "source": [
    "results\n"
   ]
  },
  {
   "cell_type": "code",
   "execution_count": 560,
   "id": "59a4cd41",
   "metadata": {},
   "outputs": [
    {
     "name": "stdout",
     "output_type": "stream",
     "text": [
      "782/782 [==============================] - 1s 1ms/step\n"
     ]
    },
    {
     "data": {
      "text/plain": [
       "array([[0.25776833],\n",
       "       [0.9990936 ],\n",
       "       [0.88385576],\n",
       "       ...,\n",
       "       [0.12468589],\n",
       "       [0.10749827],\n",
       "       [0.69904345]], dtype=float32)"
      ]
     },
     "execution_count": 560,
     "metadata": {},
     "output_type": "execute_result"
    }
   ],
   "source": [
    "two_layer_model.predict(x_test)"
   ]
  },
  {
   "cell_type": "markdown",
   "id": "ce4d62a2",
   "metadata": {},
   "source": [
    "## Handling overfit by regularization and dropout\n"
   ]
  },
  {
   "cell_type": "code",
   "execution_count": 561,
   "id": "3b5666a4",
   "metadata": {},
   "outputs": [],
   "source": [
    "regular_model = keras.Sequential([\n",
    "layers.Dense(16, kernel_regularizer=regularizers.l2(0.001),\n",
    "activation='relu'),\n",
    "    layers.Dropout(0.5),\n",
    "layers.Dense(16, kernel_regularizer=regularizers.l2(0.001),\n",
    "activation='relu'),\n",
    "    layers.Dropout(0.5),\n",
    "layers.Dense(1, activation='sigmoid')\n",
    "])"
   ]
  },
  {
   "cell_type": "code",
   "execution_count": 562,
   "id": "9457f6dd",
   "metadata": {},
   "outputs": [
    {
     "name": "stdout",
     "output_type": "stream",
     "text": [
      "Epoch 1/20\n",
      "30/30 [==============================] - 1s 27ms/step - loss: 0.6587 - accuracy: 0.6572 - val_loss: 0.5531 - val_accuracy: 0.8571\n",
      "Epoch 2/20\n",
      "30/30 [==============================] - 1s 17ms/step - loss: 0.5423 - accuracy: 0.7804 - val_loss: 0.4484 - val_accuracy: 0.8647\n",
      "Epoch 3/20\n",
      "30/30 [==============================] - 1s 18ms/step - loss: 0.4698 - accuracy: 0.8263 - val_loss: 0.3902 - val_accuracy: 0.8837\n",
      "Epoch 4/20\n",
      "30/30 [==============================] - 1s 17ms/step - loss: 0.4116 - accuracy: 0.8638 - val_loss: 0.3540 - val_accuracy: 0.8852\n",
      "Epoch 5/20\n",
      "30/30 [==============================] - 0s 14ms/step - loss: 0.3705 - accuracy: 0.8869 - val_loss: 0.3351 - val_accuracy: 0.8866\n",
      "Epoch 6/20\n",
      "30/30 [==============================] - 0s 16ms/step - loss: 0.3350 - accuracy: 0.9009 - val_loss: 0.3295 - val_accuracy: 0.8863\n",
      "Epoch 7/20\n",
      "30/30 [==============================] - 0s 16ms/step - loss: 0.3098 - accuracy: 0.9153 - val_loss: 0.3346 - val_accuracy: 0.8853\n",
      "Epoch 8/20\n",
      "30/30 [==============================] - 0s 17ms/step - loss: 0.2900 - accuracy: 0.9216 - val_loss: 0.3342 - val_accuracy: 0.8863\n",
      "Epoch 9/20\n",
      "30/30 [==============================] - 0s 16ms/step - loss: 0.2716 - accuracy: 0.9282 - val_loss: 0.3428 - val_accuracy: 0.8842\n",
      "Epoch 10/20\n",
      "30/30 [==============================] - 0s 16ms/step - loss: 0.2624 - accuracy: 0.9313 - val_loss: 0.3533 - val_accuracy: 0.8822\n",
      "Epoch 11/20\n",
      "30/30 [==============================] - 0s 15ms/step - loss: 0.2454 - accuracy: 0.9369 - val_loss: 0.3602 - val_accuracy: 0.8816\n",
      "Epoch 12/20\n",
      "30/30 [==============================] - 0s 16ms/step - loss: 0.2330 - accuracy: 0.9449 - val_loss: 0.4162 - val_accuracy: 0.8786\n",
      "Epoch 13/20\n",
      "30/30 [==============================] - 0s 16ms/step - loss: 0.2263 - accuracy: 0.9434 - val_loss: 0.3694 - val_accuracy: 0.8799\n",
      "Epoch 14/20\n",
      "30/30 [==============================] - 0s 16ms/step - loss: 0.2195 - accuracy: 0.9480 - val_loss: 0.3914 - val_accuracy: 0.8811\n",
      "Epoch 15/20\n",
      "30/30 [==============================] - 1s 18ms/step - loss: 0.2170 - accuracy: 0.9477 - val_loss: 0.4022 - val_accuracy: 0.8806\n",
      "Epoch 16/20\n",
      "30/30 [==============================] - 0s 16ms/step - loss: 0.2070 - accuracy: 0.9498 - val_loss: 0.4364 - val_accuracy: 0.8789\n",
      "Epoch 17/20\n",
      "30/30 [==============================] - 0s 17ms/step - loss: 0.2047 - accuracy: 0.9541 - val_loss: 0.4246 - val_accuracy: 0.8790\n",
      "Epoch 18/20\n",
      "30/30 [==============================] - 0s 16ms/step - loss: 0.2060 - accuracy: 0.9531 - val_loss: 0.4760 - val_accuracy: 0.8796\n",
      "Epoch 19/20\n",
      "30/30 [==============================] - 1s 17ms/step - loss: 0.1927 - accuracy: 0.9543 - val_loss: 0.5029 - val_accuracy: 0.8733\n",
      "Epoch 20/20\n",
      "30/30 [==============================] - 0s 16ms/step - loss: 0.2034 - accuracy: 0.9538 - val_loss: 0.4496 - val_accuracy: 0.8796\n"
     ]
    },
    {
     "data": {
      "text/plain": [
       "dict_keys(['loss', 'accuracy', 'val_loss', 'val_accuracy'])"
      ]
     },
     "execution_count": 562,
     "metadata": {},
     "output_type": "execute_result"
    }
   ],
   "source": [
    "regular_model.compile(optimizer=\"rmsprop\",\n",
    "              loss=\"binary_crossentropy\",\n",
    "              metrics=[\"accuracy\"])\n",
    "\n",
    "x_val = x_train[:10000]\n",
    "partial_x_train = x_train[10000:]\n",
    "y_val = y_train[:10000]\n",
    "partial_y_train = y_train[10000:]\n",
    "\n",
    "history = regular_model.fit(partial_x_train,\n",
    "                    partial_y_train,\n",
    "                    epochs=20,\n",
    "                    batch_size=512,\n",
    "                    validation_data=(x_val, y_val))\n",
    "\n",
    "history_dict = history.history\n",
    "history_dict.keys()"
   ]
  },
  {
   "cell_type": "code",
   "execution_count": 563,
   "id": "45d77860",
   "metadata": {},
   "outputs": [
    {
     "data": {
      "image/png": "[encoded data removed]",
      "text/plain": [
       "<Figure size 432x288 with 1 Axes>"
      ]
     },
     "metadata": {
      "needs_background": "light"
     },
     "output_type": "display_data"
    }
   ],
   "source": [
    "import matplotlib.pyplot as plt\n",
    "history_dict = history.history\n",
    "loss_values = history_dict[\"loss\"]\n",
    "val_loss_values = history_dict[\"val_loss\"]\n",
    "epochs = range(1, len(loss_values) + 1)\n",
    "plt.plot(epochs, loss_values, \"bo\", label=\"Training loss\")\n",
    "plt.plot(epochs, val_loss_values, \"b\", label=\"Validation loss\")\n",
    "plt.title(\"Training and validation loss\")\n",
    "plt.xlabel(\"Epochs\")\n",
    "plt.ylabel(\"Loss\")\n",
    "plt.legend()\n",
    "plt.show()"
   ]
  },
  {
   "cell_type": "code",
   "execution_count": 564,
   "id": "b53cc14e",
   "metadata": {},
   "outputs": [
    {
     "data": {
      "image/png": "[encoded data removed]",
      "text/plain": [
       "<Figure size 432x288 with 1 Axes>"
      ]
     },
     "metadata": {
      "needs_background": "light"
     },
     "output_type": "display_data"
    }
   ],
   "source": [
    "plt.clf()\n",
    "acc = history_dict[\"accuracy\"]\n",
    "val_acc = history_dict[\"val_accuracy\"]\n",
    "plt.plot(epochs, acc, \"bo\", label=\"Training acc\")\n",
    "plt.plot(epochs, val_acc, \"b\", label=\"Validation acc\")\n",
    "plt.title(\"Training and validation accuracy\")\n",
    "plt.xlabel(\"Epochs\")\n",
    "plt.ylabel(\"Accuracy\")\n",
    "plt.legend()\n",
    "plt.show()"
   ]
  },
  {
   "cell_type": "code",
   "execution_count": 565,
   "id": "694cb5f4",
   "metadata": {},
   "outputs": [
    {
     "name": "stdout",
     "output_type": "stream",
     "text": [
      "Epoch 1/4\n",
      "49/49 [==============================] - 1s 10ms/step - loss: 0.6319 - accuracy: 0.6728\n",
      "Epoch 2/4\n",
      "49/49 [==============================] - 1s 10ms/step - loss: 0.4866 - accuracy: 0.8177\n",
      "Epoch 3/4\n",
      "49/49 [==============================] - 1s 11ms/step - loss: 0.4108 - accuracy: 0.8651\n",
      "Epoch 4/4\n",
      "49/49 [==============================] - 1s 11ms/step - loss: 0.3630 - accuracy: 0.8891\n",
      "782/782 [==============================] - 2s 2ms/step - loss: 0.3278 - accuracy: 0.8876\n"
     ]
    }
   ],
   "source": [
    "regular_model = keras.Sequential([\n",
    "layers.Dense(16, kernel_regularizer=regularizers.l2(0.001),\n",
    "activation='relu'),\n",
    "    layers.Dropout(0.5),\n",
    "layers.Dense(16, kernel_regularizer=regularizers.l2(0.001),\n",
    "activation='relu'),\n",
    "    layers.Dropout(0.5),\n",
    "layers.Dense(1, activation='sigmoid')\n",
    "])\n",
    "regular_model.compile(optimizer=\"rmsprop\",\n",
    "              loss=\"binary_crossentropy\",\n",
    "              metrics=[\"accuracy\"])\n",
    "regular_model.fit(x_train, y_train, epochs=4, batch_size=512)\n",
    "results = regular_model.evaluate(x_test, y_test)"
   ]
  },
  {
   "cell_type": "code",
   "execution_count": 566,
   "id": "8ca14955",
   "metadata": {},
   "outputs": [
    {
     "data": {
      "text/plain": [
       "[0.32776084542274475, 0.8875600099563599]"
      ]
     },
     "execution_count": 566,
     "metadata": {},
     "output_type": "execute_result"
    }
   ],
   "source": [
    "results\n"
   ]
  },
  {
   "cell_type": "code",
   "execution_count": 567,
   "id": "8cb449d0",
   "metadata": {},
   "outputs": [
    {
     "name": "stdout",
     "output_type": "stream",
     "text": [
      "782/782 [==============================] - 2s 2ms/step\n"
     ]
    },
    {
     "data": {
      "text/plain": [
       "array([[0.19485652],\n",
       "       [0.99838173],\n",
       "       [0.8682812 ],\n",
       "       ...,\n",
       "       [0.14168696],\n",
       "       [0.16209662],\n",
       "       [0.41642684]], dtype=float32)"
      ]
     },
     "execution_count": 567,
     "metadata": {},
     "output_type": "execute_result"
    }
   ],
   "source": [
    "regular_model.predict(x_test)"
   ]
  }
 ],
 "metadata": {
  "kernelspec": {
   "display_name": "Python 3 (ipykernel)",
   "language": "python",
   "name": "python3"
  },
  "language_info": {
   "codemirror_mode": {
    "name": "ipython",
    "version": 3
   },
   "file_extension": ".py",
   "mimetype": "text/x-python",
   "name": "python",
   "nbconvert_exporter": "python",
   "pygments_lexer": "ipython3",
   "version": "3.9.12"
  }
 },
 "nbformat": 4,
 "nbformat_minor": 5
}
